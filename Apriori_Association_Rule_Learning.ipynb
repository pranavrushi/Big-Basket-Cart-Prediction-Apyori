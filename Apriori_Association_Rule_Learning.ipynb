{
  "cells": [
    {
      "cell_type": "markdown",
      "metadata": {
        "id": "Z-jZGC0q0aiY"
      },
      "source": [
        "# Apriori"
      ]
    },
    {
      "cell_type": "markdown",
      "metadata": {
        "id": "jE4Rc_OO0eJM"
      },
      "source": [
        "## Importing libraries"
      ]
    },
    {
      "cell_type": "code",
      "execution_count": 1,
      "metadata": {
        "colab": {
          "base_uri": "https://localhost:8080/"
        },
        "id": "KHWw-m3csxCD",
        "outputId": "19e4272b-5693-468f-f1a9-ecaccd4e8be1"
      },
      "outputs": [
        {
          "name": "stdout",
          "output_type": "stream",
          "text": [
            "Collecting apyori\n",
            "  Downloading apyori-1.1.2.tar.gz (8.6 kB)\n",
            "  Installing build dependencies: started\n",
            "  Installing build dependencies: finished with status 'done'\n",
            "  Getting requirements to build wheel: started\n",
            "  Getting requirements to build wheel: finished with status 'done'\n",
            "  Preparing metadata (pyproject.toml): started\n",
            "  Preparing metadata (pyproject.toml): finished with status 'done'\n",
            "Building wheels for collected packages: apyori\n",
            "  Building wheel for apyori (pyproject.toml): started\n",
            "  Building wheel for apyori (pyproject.toml): finished with status 'done'\n",
            "  Created wheel for apyori: filename=apyori-1.1.2-py3-none-any.whl size=5975 sha256=52c17f0bfd5f8e7d81f7843efa12d17515e3cb21d75ce5a581fd1aa89a4246e3\n",
            "  Stored in directory: c:\\users\\thamm\\appdata\\local\\pip\\cache\\wheels\\77\\3d\\a6\\d317a6fb32be58a602b1e8c6b5d6f31f79322da554cad2a5ea\n",
            "Successfully built apyori\n",
            "Installing collected packages: apyori\n",
            "Successfully installed apyori-1.1.2\n"
          ]
        },
        {
          "name": "stderr",
          "output_type": "stream",
          "text": [
            "\n",
            "[notice] A new release of pip is available: 23.1.2 -> 23.2.1\n",
            "[notice] To update, run: python.exe -m pip install --upgrade pip\n"
          ]
        }
      ],
      "source": [
        "!pip install apyori"
      ]
    },
    {
      "cell_type": "code",
      "execution_count": 2,
      "metadata": {
        "id": "PTBjYh8iyvVK"
      },
      "outputs": [],
      "source": [
        "import numpy as np\n",
        "import matplotlib.pyplot as plt\n",
        "import pandas as pd"
      ]
    },
    {
      "cell_type": "markdown",
      "metadata": {
        "id": "A9-xGHd20gY1"
      },
      "source": [
        "## Importing dataset"
      ]
    },
    {
      "cell_type": "code",
      "execution_count": 4,
      "metadata": {
        "id": "IeX0-BBoyxsw"
      },
      "outputs": [],
      "source": [
        "dataset = pd.read_csv('BIGBASKET.csv', header = None)\n",
        "transactions = []\n",
        "\n",
        "for i in range(0, 7219):\n",
        "  transactions.append([str(dataset.values[i,j]) for j in range(0, 20)])"
      ]
    },
    {
      "cell_type": "markdown",
      "metadata": {
        "id": "8REFJFGC0lRN"
      },
      "source": [
        "## Apriori Training on Dataset"
      ]
    },
    {
      "cell_type": "code",
      "execution_count": 5,
      "metadata": {
        "id": "Cs6amFsNy4Ri"
      },
      "outputs": [],
      "source": [
        "from apyori import apriori\n",
        "rules = apriori(transactions = transactions, min_support = 0.003, min_confidence = 0.2, min_lift = 3, min_length = 2, max_length = 2)"
      ]
    },
    {
      "cell_type": "markdown",
      "metadata": {
        "id": "-Dw4Khi70u9g"
      },
      "source": [
        "## Visualizing"
      ]
    },
    {
      "cell_type": "markdown",
      "metadata": {
        "id": "LMakVn8pt7Fk"
      },
      "source": [
        "### Raw Results"
      ]
    },
    {
      "cell_type": "code",
      "execution_count": 6,
      "metadata": {
        "id": "UYvqw6qvy5J4"
      },
      "outputs": [],
      "source": [
        "results = list(rules)"
      ]
    },
    {
      "cell_type": "code",
      "execution_count": 7,
      "metadata": {
        "colab": {
          "base_uri": "https://localhost:8080/"
        },
        "id": "V8jUYqqduM3X",
        "outputId": "857b4bae-4a8c-409d-8b8b-aeb275975bc2"
      },
      "outputs": [
        {
          "data": {
            "text/plain": [
              "[RelationRecord(items=frozenset({'almonds', 'burgers'}), support=0.005402410306136584, ordered_statistics=[OrderedStatistic(items_base=frozenset({'almonds'}), items_add=frozenset({'burgers'}), confidence=0.26530612244897955, lift=3.0594966421073218)]),\n",
              " RelationRecord(items=frozenset({'buns', 'paneer'}), support=0.016068707577226764, ordered_statistics=[OrderedStatistic(items_base=frozenset({'buns'}), items_add=frozenset({'paneer'}), confidence=0.32402234636871513, lift=3.2852771326344867)]),\n",
              " RelationRecord(items=frozenset({'chicken', 'ginger garlic paste'}), support=0.004571270259038648, ordered_statistics=[OrderedStatistic(items_base=frozenset({'ginger garlic paste'}), items_add=frozenset({'chicken'}), confidence=0.29203539823008845, lift=4.791371681415929)]),\n",
              " RelationRecord(items=frozenset({'vegetable basket', 'fruit basket'}), support=0.0055409336473195734, ordered_statistics=[OrderedStatistic(items_base=frozenset({'fruit basket'}), items_add=frozenset({'vegetable basket'}), confidence=0.29411764705882354, lift=3.081618714249125)]),\n",
              " RelationRecord(items=frozenset({'ginger garlic paste', 'olive oil'}), support=0.003324560188391744, ordered_statistics=[OrderedStatistic(items_base=frozenset({'ginger garlic paste'}), items_add=frozenset({'olive oil'}), confidence=0.21238938053097342, lift=3.2346813039094875)]),\n",
              " RelationRecord(items=frozenset({'kissan puree', 'paneer'}), support=0.005402410306136584, ordered_statistics=[OrderedStatistic(items_base=frozenset({'kissan puree'}), items_add=frozenset({'paneer'}), confidence=0.3786407766990291, lift=3.8390558525144542)]),\n",
              " RelationRecord(items=frozenset({'pasta', 'maggi'}), support=0.0034630835295747335, ordered_statistics=[OrderedStatistic(items_base=frozenset({'pasta'}), items_add=frozenset({'maggi'}), confidence=0.24752475247524755, lift=3.4562498803071797)]),\n",
              " RelationRecord(items=frozenset({'mushroom', 'pasta'}), support=0.005402410306136584, ordered_statistics=[OrderedStatistic(items_base=frozenset({'pasta'}), items_add=frozenset({'mushroom'}), confidence=0.38613861386138615, lift=4.873312331233124)]),\n",
              " RelationRecord(items=frozenset({'mushroom', 'pepper spray'}), support=0.005817980329685552, ordered_statistics=[OrderedStatistic(items_base=frozenset({'pepper spray'}), items_add=frozenset({'mushroom'}), confidence=0.3021582733812949, lift=3.8134275796146295)]),\n",
              " RelationRecord(items=frozenset({'trolly bag', 'neckrest'}), support=0.0034630835295747335, ordered_statistics=[OrderedStatistic(items_base=frozenset({'neckrest'}), items_add=frozenset({'trolly bag'}), confidence=0.2717391304347826, lift=5.620873302603712)]),\n",
              " RelationRecord(items=frozenset({'whole wheat pasta', 'olive oil'}), support=0.007757307106247403, ordered_statistics=[OrderedStatistic(items_base=frozenset({'whole wheat pasta'}), items_add=frozenset({'olive oil'}), confidence=0.26666666666666666, lift=4.061322081575246)])]"
            ]
          },
          "execution_count": 7,
          "metadata": {},
          "output_type": "execute_result"
        }
      ],
      "source": [
        "results"
      ]
    },
    {
      "cell_type": "code",
      "execution_count": 8,
      "metadata": {
        "colab": {
          "base_uri": "https://localhost:8080/"
        },
        "id": "u6Cz6_O0_y66",
        "outputId": "00a833ae-e3cd-4ae6-a84c-fe89e64365d5"
      },
      "outputs": [
        {
          "name": "stdout",
          "output_type": "stream",
          "text": [
            "[RelationRecord(items=frozenset({'almonds', 'burgers'}), support=0.005402410306136584, ordered_statistics=[OrderedStatistic(items_base=frozenset({'almonds'}), items_add=frozenset({'burgers'}), confidence=0.26530612244897955, lift=3.0594966421073218)]), RelationRecord(items=frozenset({'buns', 'paneer'}), support=0.016068707577226764, ordered_statistics=[OrderedStatistic(items_base=frozenset({'buns'}), items_add=frozenset({'paneer'}), confidence=0.32402234636871513, lift=3.2852771326344867)]), RelationRecord(items=frozenset({'chicken', 'ginger garlic paste'}), support=0.004571270259038648, ordered_statistics=[OrderedStatistic(items_base=frozenset({'ginger garlic paste'}), items_add=frozenset({'chicken'}), confidence=0.29203539823008845, lift=4.791371681415929)]), RelationRecord(items=frozenset({'vegetable basket', 'fruit basket'}), support=0.0055409336473195734, ordered_statistics=[OrderedStatistic(items_base=frozenset({'fruit basket'}), items_add=frozenset({'vegetable basket'}), confidence=0.29411764705882354, lift=3.081618714249125)]), RelationRecord(items=frozenset({'ginger garlic paste', 'olive oil'}), support=0.003324560188391744, ordered_statistics=[OrderedStatistic(items_base=frozenset({'ginger garlic paste'}), items_add=frozenset({'olive oil'}), confidence=0.21238938053097342, lift=3.2346813039094875)]), RelationRecord(items=frozenset({'kissan puree', 'paneer'}), support=0.005402410306136584, ordered_statistics=[OrderedStatistic(items_base=frozenset({'kissan puree'}), items_add=frozenset({'paneer'}), confidence=0.3786407766990291, lift=3.8390558525144542)]), RelationRecord(items=frozenset({'pasta', 'maggi'}), support=0.0034630835295747335, ordered_statistics=[OrderedStatistic(items_base=frozenset({'pasta'}), items_add=frozenset({'maggi'}), confidence=0.24752475247524755, lift=3.4562498803071797)]), RelationRecord(items=frozenset({'mushroom', 'pasta'}), support=0.005402410306136584, ordered_statistics=[OrderedStatistic(items_base=frozenset({'pasta'}), items_add=frozenset({'mushroom'}), confidence=0.38613861386138615, lift=4.873312331233124)]), RelationRecord(items=frozenset({'mushroom', 'pepper spray'}), support=0.005817980329685552, ordered_statistics=[OrderedStatistic(items_base=frozenset({'pepper spray'}), items_add=frozenset({'mushroom'}), confidence=0.3021582733812949, lift=3.8134275796146295)]), RelationRecord(items=frozenset({'trolly bag', 'neckrest'}), support=0.0034630835295747335, ordered_statistics=[OrderedStatistic(items_base=frozenset({'neckrest'}), items_add=frozenset({'trolly bag'}), confidence=0.2717391304347826, lift=5.620873302603712)]), RelationRecord(items=frozenset({'whole wheat pasta', 'olive oil'}), support=0.007757307106247403, ordered_statistics=[OrderedStatistic(items_base=frozenset({'whole wheat pasta'}), items_add=frozenset({'olive oil'}), confidence=0.26666666666666666, lift=4.061322081575246)])]\n"
          ]
        }
      ],
      "source": [
        "print(results)"
      ]
    },
    {
      "cell_type": "markdown",
      "metadata": {
        "id": "0Ir6DPsdumvX"
      },
      "source": [
        "### Proper Display"
      ]
    },
    {
      "cell_type": "code",
      "execution_count": 9,
      "metadata": {
        "id": "r6WHhsQLuqXc"
      },
      "outputs": [],
      "source": [
        "def inspect(results):\n",
        "    product1         = [tuple(result[2][0][0])[0] for result in results]\n",
        "    product2         = [tuple(result[2][0][1])[0] for result in results]\n",
        "    supports    = [result[1] for result in results]\n",
        "    confidences = [result[2][0][2] for result in results]\n",
        "    lifts       = [result[2][0][3] for result in results]\n",
        "    return list(zip(product1, product2, supports, confidences, lifts))\n",
        "DataFrame_intelligence = pd.DataFrame(inspect(results), columns = ['product1', 'product1', 'Support', 'Confidence', 'Lift'])"
      ]
    },
    {
      "cell_type": "code",
      "execution_count": 10,
      "metadata": {
        "colab": {
          "base_uri": "https://localhost:8080/",
          "height": 390
        },
        "id": "9aj8wZy5uumr",
        "outputId": "e22d4272-b3a2-4029-ad47-e381d13192a8"
      },
      "outputs": [
        {
          "data": {
            "text/html": [
              "<div>\n",
              "<style scoped>\n",
              "    .dataframe tbody tr th:only-of-type {\n",
              "        vertical-align: middle;\n",
              "    }\n",
              "\n",
              "    .dataframe tbody tr th {\n",
              "        vertical-align: top;\n",
              "    }\n",
              "\n",
              "    .dataframe thead th {\n",
              "        text-align: right;\n",
              "    }\n",
              "</style>\n",
              "<table border=\"1\" class=\"dataframe\">\n",
              "  <thead>\n",
              "    <tr style=\"text-align: right;\">\n",
              "      <th></th>\n",
              "      <th>product1</th>\n",
              "      <th>product1</th>\n",
              "      <th>Support</th>\n",
              "      <th>Confidence</th>\n",
              "      <th>Lift</th>\n",
              "    </tr>\n",
              "  </thead>\n",
              "  <tbody>\n",
              "    <tr>\n",
              "      <th>0</th>\n",
              "      <td>almonds</td>\n",
              "      <td>burgers</td>\n",
              "      <td>0.005402</td>\n",
              "      <td>0.265306</td>\n",
              "      <td>3.059497</td>\n",
              "    </tr>\n",
              "    <tr>\n",
              "      <th>1</th>\n",
              "      <td>buns</td>\n",
              "      <td>paneer</td>\n",
              "      <td>0.016069</td>\n",
              "      <td>0.324022</td>\n",
              "      <td>3.285277</td>\n",
              "    </tr>\n",
              "    <tr>\n",
              "      <th>2</th>\n",
              "      <td>ginger garlic paste</td>\n",
              "      <td>chicken</td>\n",
              "      <td>0.004571</td>\n",
              "      <td>0.292035</td>\n",
              "      <td>4.791372</td>\n",
              "    </tr>\n",
              "    <tr>\n",
              "      <th>3</th>\n",
              "      <td>fruit basket</td>\n",
              "      <td>vegetable basket</td>\n",
              "      <td>0.005541</td>\n",
              "      <td>0.294118</td>\n",
              "      <td>3.081619</td>\n",
              "    </tr>\n",
              "    <tr>\n",
              "      <th>4</th>\n",
              "      <td>ginger garlic paste</td>\n",
              "      <td>olive oil</td>\n",
              "      <td>0.003325</td>\n",
              "      <td>0.212389</td>\n",
              "      <td>3.234681</td>\n",
              "    </tr>\n",
              "    <tr>\n",
              "      <th>5</th>\n",
              "      <td>kissan puree</td>\n",
              "      <td>paneer</td>\n",
              "      <td>0.005402</td>\n",
              "      <td>0.378641</td>\n",
              "      <td>3.839056</td>\n",
              "    </tr>\n",
              "    <tr>\n",
              "      <th>6</th>\n",
              "      <td>pasta</td>\n",
              "      <td>maggi</td>\n",
              "      <td>0.003463</td>\n",
              "      <td>0.247525</td>\n",
              "      <td>3.456250</td>\n",
              "    </tr>\n",
              "    <tr>\n",
              "      <th>7</th>\n",
              "      <td>pasta</td>\n",
              "      <td>mushroom</td>\n",
              "      <td>0.005402</td>\n",
              "      <td>0.386139</td>\n",
              "      <td>4.873312</td>\n",
              "    </tr>\n",
              "    <tr>\n",
              "      <th>8</th>\n",
              "      <td>pepper spray</td>\n",
              "      <td>mushroom</td>\n",
              "      <td>0.005818</td>\n",
              "      <td>0.302158</td>\n",
              "      <td>3.813428</td>\n",
              "    </tr>\n",
              "    <tr>\n",
              "      <th>9</th>\n",
              "      <td>neckrest</td>\n",
              "      <td>trolly bag</td>\n",
              "      <td>0.003463</td>\n",
              "      <td>0.271739</td>\n",
              "      <td>5.620873</td>\n",
              "    </tr>\n",
              "    <tr>\n",
              "      <th>10</th>\n",
              "      <td>whole wheat pasta</td>\n",
              "      <td>olive oil</td>\n",
              "      <td>0.007757</td>\n",
              "      <td>0.266667</td>\n",
              "      <td>4.061322</td>\n",
              "    </tr>\n",
              "  </tbody>\n",
              "</table>\n",
              "</div>"
            ],
            "text/plain": [
              "               product1          product1   Support  Confidence      Lift\n",
              "0               almonds           burgers  0.005402    0.265306  3.059497\n",
              "1                  buns            paneer  0.016069    0.324022  3.285277\n",
              "2   ginger garlic paste           chicken  0.004571    0.292035  4.791372\n",
              "3          fruit basket  vegetable basket  0.005541    0.294118  3.081619\n",
              "4   ginger garlic paste         olive oil  0.003325    0.212389  3.234681\n",
              "5          kissan puree            paneer  0.005402    0.378641  3.839056\n",
              "6                 pasta             maggi  0.003463    0.247525  3.456250\n",
              "7                 pasta          mushroom  0.005402    0.386139  4.873312\n",
              "8          pepper spray          mushroom  0.005818    0.302158  3.813428\n",
              "9              neckrest        trolly bag  0.003463    0.271739  5.620873\n",
              "10    whole wheat pasta         olive oil  0.007757    0.266667  4.061322"
            ]
          },
          "execution_count": 10,
          "metadata": {},
          "output_type": "execute_result"
        }
      ],
      "source": [
        "DataFrame_intelligence"
      ]
    },
    {
      "cell_type": "code",
      "execution_count": 11,
      "metadata": {
        "colab": {
          "base_uri": "https://localhost:8080/",
          "height": 359
        },
        "id": "VkM6Mt6ouzxh",
        "outputId": "8fc4966e-d4b5-4fd0-e743-1e9c96e0b98f"
      },
      "outputs": [
        {
          "data": {
            "text/html": [
              "<div>\n",
              "<style scoped>\n",
              "    .dataframe tbody tr th:only-of-type {\n",
              "        vertical-align: middle;\n",
              "    }\n",
              "\n",
              "    .dataframe tbody tr th {\n",
              "        vertical-align: top;\n",
              "    }\n",
              "\n",
              "    .dataframe thead th {\n",
              "        text-align: right;\n",
              "    }\n",
              "</style>\n",
              "<table border=\"1\" class=\"dataframe\">\n",
              "  <thead>\n",
              "    <tr style=\"text-align: right;\">\n",
              "      <th></th>\n",
              "      <th>product1</th>\n",
              "      <th>product1</th>\n",
              "      <th>Support</th>\n",
              "      <th>Confidence</th>\n",
              "      <th>Lift</th>\n",
              "    </tr>\n",
              "  </thead>\n",
              "  <tbody>\n",
              "    <tr>\n",
              "      <th>9</th>\n",
              "      <td>neckrest</td>\n",
              "      <td>trolly bag</td>\n",
              "      <td>0.003463</td>\n",
              "      <td>0.271739</td>\n",
              "      <td>5.620873</td>\n",
              "    </tr>\n",
              "    <tr>\n",
              "      <th>7</th>\n",
              "      <td>pasta</td>\n",
              "      <td>mushroom</td>\n",
              "      <td>0.005402</td>\n",
              "      <td>0.386139</td>\n",
              "      <td>4.873312</td>\n",
              "    </tr>\n",
              "    <tr>\n",
              "      <th>2</th>\n",
              "      <td>ginger garlic paste</td>\n",
              "      <td>chicken</td>\n",
              "      <td>0.004571</td>\n",
              "      <td>0.292035</td>\n",
              "      <td>4.791372</td>\n",
              "    </tr>\n",
              "    <tr>\n",
              "      <th>10</th>\n",
              "      <td>whole wheat pasta</td>\n",
              "      <td>olive oil</td>\n",
              "      <td>0.007757</td>\n",
              "      <td>0.266667</td>\n",
              "      <td>4.061322</td>\n",
              "    </tr>\n",
              "    <tr>\n",
              "      <th>5</th>\n",
              "      <td>kissan puree</td>\n",
              "      <td>paneer</td>\n",
              "      <td>0.005402</td>\n",
              "      <td>0.378641</td>\n",
              "      <td>3.839056</td>\n",
              "    </tr>\n",
              "    <tr>\n",
              "      <th>8</th>\n",
              "      <td>pepper spray</td>\n",
              "      <td>mushroom</td>\n",
              "      <td>0.005818</td>\n",
              "      <td>0.302158</td>\n",
              "      <td>3.813428</td>\n",
              "    </tr>\n",
              "    <tr>\n",
              "      <th>6</th>\n",
              "      <td>pasta</td>\n",
              "      <td>maggi</td>\n",
              "      <td>0.003463</td>\n",
              "      <td>0.247525</td>\n",
              "      <td>3.456250</td>\n",
              "    </tr>\n",
              "    <tr>\n",
              "      <th>1</th>\n",
              "      <td>buns</td>\n",
              "      <td>paneer</td>\n",
              "      <td>0.016069</td>\n",
              "      <td>0.324022</td>\n",
              "      <td>3.285277</td>\n",
              "    </tr>\n",
              "    <tr>\n",
              "      <th>4</th>\n",
              "      <td>ginger garlic paste</td>\n",
              "      <td>olive oil</td>\n",
              "      <td>0.003325</td>\n",
              "      <td>0.212389</td>\n",
              "      <td>3.234681</td>\n",
              "    </tr>\n",
              "    <tr>\n",
              "      <th>3</th>\n",
              "      <td>fruit basket</td>\n",
              "      <td>vegetable basket</td>\n",
              "      <td>0.005541</td>\n",
              "      <td>0.294118</td>\n",
              "      <td>3.081619</td>\n",
              "    </tr>\n",
              "  </tbody>\n",
              "</table>\n",
              "</div>"
            ],
            "text/plain": [
              "               product1          product1   Support  Confidence      Lift\n",
              "9              neckrest        trolly bag  0.003463    0.271739  5.620873\n",
              "7                 pasta          mushroom  0.005402    0.386139  4.873312\n",
              "2   ginger garlic paste           chicken  0.004571    0.292035  4.791372\n",
              "10    whole wheat pasta         olive oil  0.007757    0.266667  4.061322\n",
              "5          kissan puree            paneer  0.005402    0.378641  3.839056\n",
              "8          pepper spray          mushroom  0.005818    0.302158  3.813428\n",
              "6                 pasta             maggi  0.003463    0.247525  3.456250\n",
              "1                  buns            paneer  0.016069    0.324022  3.285277\n",
              "4   ginger garlic paste         olive oil  0.003325    0.212389  3.234681\n",
              "3          fruit basket  vegetable basket  0.005541    0.294118  3.081619"
            ]
          },
          "execution_count": 11,
          "metadata": {},
          "output_type": "execute_result"
        }
      ],
      "source": [
        "DataFrame_intelligence.nlargest(n = 10, columns = 'Lift')"
      ]
    }
  ],
  "metadata": {
    "colab": {
      "provenance": [],
      "toc_visible": true
    },
    "kernelspec": {
      "display_name": "Python 3",
      "name": "python3"
    },
    "language_info": {
      "codemirror_mode": {
        "name": "ipython",
        "version": 3
      },
      "file_extension": ".py",
      "mimetype": "text/x-python",
      "name": "python",
      "nbconvert_exporter": "python",
      "pygments_lexer": "ipython3",
      "version": "3.11.4"
    }
  },
  "nbformat": 4,
  "nbformat_minor": 0
}
